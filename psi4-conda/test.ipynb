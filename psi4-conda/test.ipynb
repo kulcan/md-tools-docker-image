{
 "cells": [
  {
   "cell_type": "markdown",
   "id": "da8e1a44",
   "metadata": {},
   "source": [
    "# Probando Psi4"
   ]
  },
  {
   "cell_type": "code",
   "execution_count": 1,
   "id": "ca85e574",
   "metadata": {
    "scrolled": true
   },
   "outputs": [
    {
     "name": "stdout",
     "output_type": "stream",
     "text": [
      "    SCF E.................................................................................PASSED\n"
     ]
    },
    {
     "data": {
      "text/plain": [
       "True"
      ]
     },
     "execution_count": 1,
     "metadata": {},
     "output_type": "execute_result"
    }
   ],
   "source": [
    "import psi4\n",
    "mol = psi4.geometry(\"\"\"\n",
    "He\n",
    "\"\"\")\n",
    "psi4.energy('hf/cc-pvdz')\n",
    "psi4.compare_values(-2.85518839, psi4.core.variable('current energy'), 5, 'SCF E')"
   ]
  },
  {
   "cell_type": "markdown",
   "id": "578d5296",
   "metadata": {},
   "source": [
    "# Probando ASE"
   ]
  },
  {
   "cell_type": "code",
   "execution_count": 2,
   "id": "f61148ea",
   "metadata": {},
   "outputs": [
    {
     "name": "stdout",
     "output_type": "stream",
     "text": [
      "-2080.2391023909363\n",
      "[[-9.43607331e-13  4.74077385e-10 -3.58274865e-01]\n",
      " [-3.62505498e-14 -2.87785834e-01  1.78901194e-01]\n",
      " [ 2.95903318e-14  2.87785834e-01  1.78901194e-01]]\n"
     ]
    }
   ],
   "source": [
    "from ase.calculators.psi4 import Psi4\n",
    "from ase.build import molecule\n",
    "import numpy as np\n",
    "\n",
    "atoms = molecule('H2O')\n",
    "\n",
    "calc = Psi4(atoms = atoms,\n",
    "        method = 'b3lyp',\n",
    "        memory = '500MB', # this is the default, be aware!\n",
    "        basis = '6-311g_d_p_')\n",
    "\n",
    "atoms.calc = calc\n",
    "print(atoms.get_potential_energy())\n",
    "print(atoms.get_forces())"
   ]
  },
  {
   "cell_type": "markdown",
   "id": "04a3693a",
   "metadata": {},
   "source": [
    "# Probando SageMath"
   ]
  },
  {
   "cell_type": "code",
   "execution_count": 3,
   "id": "dc03333d",
   "metadata": {},
   "outputs": [
    {
     "data": {
      "text/plain": [
       "64"
      ]
     },
     "execution_count": 3,
     "metadata": {},
     "output_type": "execute_result"
    }
   ],
   "source": [
    "x = 8^2\n",
    "x"
   ]
  },
  {
   "cell_type": "markdown",
   "id": "440e9979",
   "metadata": {},
   "source": [
    "# Probando OpenMM"
   ]
  },
  {
   "cell_type": "code",
   "execution_count": 4,
   "id": "f897d589",
   "metadata": {},
   "outputs": [
    {
     "name": "stdout",
     "output_type": "stream",
     "text": [
      "\n",
      "OpenMM Version: 7.6\n",
      "Git Revision: ad113a0cb37991a2de67a08026cf3b91616bafbe\n",
      "\n",
      "There are 2 Platforms available:\n",
      "\n",
      "1 Reference - Successfully computed forces\n",
      "2 CPU - Successfully computed forces\n",
      "\n",
      "Median difference in forces between platforms:\n",
      "\n",
      "Reference vs. CPU: 6.30164e-06\n",
      "\n",
      "All differences are within tolerance.\n"
     ]
    }
   ],
   "source": [
    "import openmm.testInstallation\n",
    "openmm.testInstallation.main()"
   ]
  }
 ],
 "metadata": {
  "kernelspec": {
   "display_name": "SageMath 9.2",
   "language": "sage",
   "name": "sagemath"
  },
  "language_info": {
   "codemirror_mode": {
    "name": "ipython",
    "version": 3
   },
   "file_extension": ".py",
   "mimetype": "text/x-python",
   "name": "python",
   "nbconvert_exporter": "python",
   "pygments_lexer": "ipython3",
   "version": "3.8.12"
  }
 },
 "nbformat": 4,
 "nbformat_minor": 5
}
