{
 "cells": [
  {
   "cell_type": "code",
   "execution_count": 1,
   "id": "5bb89c6f",
   "metadata": {},
   "outputs": [],
   "source": [
    "import psi4\n",
    "\n",
    "psi4.core.set_output_file(\"output.out\")\n",
    "psi4.core.set_num_threads(4)"
   ]
  },
  {
   "cell_type": "code",
   "execution_count": 2,
   "id": "b882baca",
   "metadata": {},
   "outputs": [],
   "source": [
    "mol = psi4.geometry(\"\"\"\n",
    "He\n",
    "\"\"\")"
   ]
  },
  {
   "cell_type": "code",
   "execution_count": 3,
   "id": "cb53a14e",
   "metadata": {},
   "outputs": [],
   "source": [
    "custom_functional = {\n",
    "    \"name\": \"my_PBE\",\n",
    "    \"x_functionals\": {\"GGA_X_PBE\": {\"alpha\": 0.75}},\n",
    "    \"x_hf\": {\"alpha\": 0.25},\n",
    "    \"c_functionals\": {\"GGA_C_PBE\": {}}\n",
    "}"
   ]
  },
  {
   "cell_type": "code",
   "execution_count": 4,
   "id": "1de92c5c",
   "metadata": {},
   "outputs": [
    {
     "data": {
      "text/plain": [
       "-2.8946265615268825"
      ]
     },
     "execution_count": 4,
     "metadata": {},
     "output_type": "execute_result"
    }
   ],
   "source": [
    "psi4.energy('scf/dzvp',  dft_functional = custom_functional, molecule = mol)"
   ]
  }
 ],
 "metadata": {
  "kernelspec": {
   "display_name": "Python 3 (ipykernel)",
   "language": "python",
   "name": "python3"
  },
  "language_info": {
   "codemirror_mode": {
    "name": "ipython",
    "version": 3
   },
   "file_extension": ".py",
   "mimetype": "text/x-python",
   "name": "python",
   "nbconvert_exporter": "python",
   "pygments_lexer": "ipython3",
   "version": "3.8.12"
  },
  "vscode": {
   "interpreter": {
    "hash": "d4d1e4263499bec80672ea0156c357c1ee493ec2b1c70f0acce89fc37c4a6abe"
   }
  }
 },
 "nbformat": 4,
 "nbformat_minor": 5
}
