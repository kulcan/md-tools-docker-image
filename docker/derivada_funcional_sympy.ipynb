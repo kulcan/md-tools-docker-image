{
 "cells": [
  {
   "cell_type": "code",
   "execution_count": 1,
   "id": "d6b99ff5",
   "metadata": {},
   "outputs": [],
   "source": [
    "import sympy as smp\n",
    "from IPython.display import HTML"
   ]
  },
  {
   "cell_type": "markdown",
   "id": "aa22046e",
   "metadata": {},
   "source": [
    "## Fuente"
   ]
  },
  {
   "cell_type": "markdown",
   "id": "bf1ee6bc-a9b6-445f-9dbb-a30887e0a45c",
   "metadata": {},
   "source": [
    "Versión en Sage: https://ask.sagemath.org/question/7929/computing-variational-derivatives/"
   ]
  },
  {
   "cell_type": "markdown",
   "id": "4a326999",
   "metadata": {},
   "source": [
    "## Ejemplo 1"
   ]
  },
  {
   "cell_type": "code",
   "execution_count": 2,
   "id": "c0a60239",
   "metadata": {},
   "outputs": [],
   "source": [
    "x, y = smp.symbols('x, y')"
   ]
  },
  {
   "cell_type": "code",
   "execution_count": 3,
   "id": "43374bfe",
   "metadata": {},
   "outputs": [
    {
     "data": {
      "text/latex": [
       "$\\displaystyle u{\\left(x \\right)}$"
      ],
      "text/plain": [
       "u(x)"
      ]
     },
     "execution_count": 3,
     "metadata": {},
     "output_type": "execute_result"
    }
   ],
   "source": [
    "u = smp.Function('u')(x)\n",
    "u"
   ]
  },
  {
   "cell_type": "code",
   "execution_count": 4,
   "id": "5d8ffc2f-2831-4e88-b249-bef220324b7e",
   "metadata": {},
   "outputs": [
    {
     "data": {
      "text/plain": [
       "1"
      ]
     },
     "execution_count": 4,
     "metadata": {},
     "output_type": "execute_result"
    }
   ],
   "source": [
    "var = u.free_symbols\n",
    "len(var)"
   ]
  },
  {
   "cell_type": "code",
   "execution_count": 5,
   "id": "9d520838",
   "metadata": {},
   "outputs": [
    {
     "data": {
      "text/latex": [
       "$\\displaystyle u^{3}{\\left(x \\right)} + \\frac{\\left(\\frac{d}{d x} u{\\left(x \\right)}\\right)^{2}}{2}$"
      ],
      "text/plain": [
       "u(x)**3 + Derivative(u(x), x)**2/2"
      ]
     },
     "execution_count": 5,
     "metadata": {},
     "output_type": "execute_result"
    }
   ],
   "source": [
    "L = u**3 + smp.diff(u)**2/2\n",
    "L"
   ]
  },
  {
   "cell_type": "code",
   "execution_count": 6,
   "id": "ce814c4e-952c-42be-8d4b-51b539ff0e46",
   "metadata": {},
   "outputs": [
    {
     "data": {
      "text/latex": [
       "$\\displaystyle 3$"
      ],
      "text/plain": [
       "3"
      ]
     },
     "execution_count": 6,
     "metadata": {},
     "output_type": "execute_result"
    }
   ],
   "source": [
    "smp.degree(L,u)"
   ]
  },
  {
   "cell_type": "code",
   "execution_count": 7,
   "id": "dc49037b-4228-4e1d-b63b-b8e3196eb22f",
   "metadata": {},
   "outputs": [
    {
     "data": {
      "text/plain": [
       "(2, 3)"
      ]
     },
     "execution_count": 7,
     "metadata": {},
     "output_type": "execute_result"
    }
   ],
   "source": [
    "smp.degree_list(L)"
   ]
  },
  {
   "cell_type": "code",
   "execution_count": 8,
   "id": "d60085cf",
   "metadata": {},
   "outputs": [
    {
     "data": {
      "text/latex": [
       "$\\displaystyle 3 u^{2}{\\left(x \\right)}$"
      ],
      "text/plain": [
       "3*u(x)**2"
      ]
     },
     "execution_count": 8,
     "metadata": {},
     "output_type": "execute_result"
    }
   ],
   "source": [
    "t1 = smp.diff(L,u)\n",
    "t1"
   ]
  },
  {
   "cell_type": "code",
   "execution_count": 9,
   "id": "f07ef939",
   "metadata": {},
   "outputs": [
    {
     "data": {
      "text/latex": [
       "$\\displaystyle \\frac{d^{2}}{d x^{2}} u{\\left(x \\right)}$"
      ],
      "text/plain": [
       "Derivative(u(x), (x, 2))"
      ]
     },
     "execution_count": 9,
     "metadata": {},
     "output_type": "execute_result"
    }
   ],
   "source": [
    "t2 = smp.diff(smp.diff(L,smp.diff(u,x)),x)\n",
    "t2"
   ]
  },
  {
   "cell_type": "code",
   "execution_count": 10,
   "id": "3fe95999",
   "metadata": {},
   "outputs": [
    {
     "data": {
      "text/latex": [
       "$\\displaystyle 3 u^{2}{\\left(x \\right)} - \\frac{d^{2}}{d x^{2}} u{\\left(x \\right)}$"
      ],
      "text/plain": [
       "3*u(x)**2 - Derivative(u(x), (x, 2))"
      ]
     },
     "execution_count": 10,
     "metadata": {},
     "output_type": "execute_result"
    }
   ],
   "source": [
    "d_I = t1 - t2 # etc...\n",
    "d_I"
   ]
  },
  {
   "cell_type": "code",
   "execution_count": 11,
   "id": "ea62cc7c",
   "metadata": {},
   "outputs": [],
   "source": [
    "# Generalizando...\n",
    "\n",
    "def derivada_funcional(L,u):\n",
    "    if len(u.free_symbols) > 1:\n",
    "        print(\"Solo debe de haber una variable independiente\")\n",
    "        return None\n",
    "    x = u.free_symbols.pop()\n",
    "    d_I = 0\n",
    "    uno = 1\n",
    "    orden_max = max(smp.degree(L,u),1)\n",
    "    for i in range(orden_max):\n",
    "        d_act = smp.diff(smp.diff(L,smp.diff(u,x,i)),x,i)\n",
    "        if d_act == 0:\n",
    "            break\n",
    "        d_I += uno * d_act\n",
    "        uno *= -1\n",
    "    return d_I\n",
    "\n",
    "def derivada_funcional_nesima(L,u,iteraciones=0):\n",
    "    L_n = derivada_funcional(L,u)\n",
    "    for i in range(iteraciones):\n",
    "        L_n = derivada_funcional(L_n,u)\n",
    "    return L_n\n",
    "    "
   ]
  },
  {
   "cell_type": "code",
   "execution_count": 12,
   "id": "8ad75f97",
   "metadata": {},
   "outputs": [
    {
     "data": {
      "text/latex": [
       "$\\displaystyle 3 u^{2}{\\left(x \\right)} - \\frac{d^{2}}{d x^{2}} u{\\left(x \\right)}$"
      ],
      "text/plain": [
       "3*u(x)**2 - Derivative(u(x), (x, 2))"
      ]
     },
     "execution_count": 12,
     "metadata": {},
     "output_type": "execute_result"
    }
   ],
   "source": [
    "# usando la generalización\n",
    "derivada_funcional(L,u)"
   ]
  },
  {
   "cell_type": "markdown",
   "id": "71a531cb",
   "metadata": {},
   "source": [
    "## Ejemplo 2"
   ]
  },
  {
   "cell_type": "code",
   "execution_count": 13,
   "id": "26fc0115",
   "metadata": {},
   "outputs": [],
   "source": [
    "k, mu, RHO = smp.symbols('k, mu, RHO')"
   ]
  },
  {
   "cell_type": "code",
   "execution_count": 14,
   "id": "ddddb4a7",
   "metadata": {},
   "outputs": [
    {
     "data": {
      "text/latex": [
       "$\\displaystyle S{\\left(\\rho \\right)}$"
      ],
      "text/plain": [
       "S(RHO)"
      ]
     },
     "execution_count": 14,
     "metadata": {},
     "output_type": "execute_result"
    }
   ],
   "source": [
    "S = smp.Function('S')(RHO)\n",
    "S"
   ]
  },
  {
   "cell_type": "code",
   "execution_count": 15,
   "id": "3acb2055",
   "metadata": {},
   "outputs": [
    {
     "data": {
      "text/latex": [
       "$\\displaystyle k - \\frac{k}{1 + \\frac{\\mu S^{2}{\\left(\\rho \\right)}}{k}} + 1$"
      ],
      "text/plain": [
       "k - k/(1 + mu*S(RHO)**2/k) + 1"
      ]
     },
     "execution_count": 15,
     "metadata": {},
     "output_type": "execute_result"
    }
   ],
   "source": [
    "L = 1 + k - (k / (1 +(mu*S**2)/k) )\n",
    "L"
   ]
  },
  {
   "cell_type": "code",
   "execution_count": 16,
   "id": "4ba490d1-b320-4d55-8d9e-a90fe7860613",
   "metadata": {},
   "outputs": [
    {
     "data": {
      "text/latex": [
       "$\\displaystyle 0$"
      ],
      "text/plain": [
       "0"
      ]
     },
     "execution_count": 16,
     "metadata": {},
     "output_type": "execute_result"
    }
   ],
   "source": [
    "smp.degree(L,S)"
   ]
  },
  {
   "cell_type": "code",
   "execution_count": 17,
   "id": "eda568f4",
   "metadata": {},
   "outputs": [
    {
     "data": {
      "text/latex": [
       "$\\displaystyle \\frac{2 \\mu S{\\left(\\rho \\right)}}{\\left(1 + \\frac{\\mu S^{2}{\\left(\\rho \\right)}}{k}\\right)^{2}}$"
      ],
      "text/plain": [
       "2*mu*S(RHO)/(1 + mu*S(RHO)**2/k)**2"
      ]
     },
     "execution_count": 17,
     "metadata": {},
     "output_type": "execute_result"
    }
   ],
   "source": [
    "L1 = derivada_funcional(L,S)\n",
    "L1"
   ]
  },
  {
   "cell_type": "code",
   "execution_count": 18,
   "id": "71a87b2b",
   "metadata": {},
   "outputs": [],
   "source": [
    "L2 = derivada_funcional(L1,S)"
   ]
  },
  {
   "cell_type": "code",
   "execution_count": 19,
   "id": "8247af01",
   "metadata": {},
   "outputs": [
    {
     "data": {
      "text/latex": [
       "$\\displaystyle \\frac{2 \\mu}{\\left(1 + \\frac{\\mu S^{2}{\\left(\\rho \\right)}}{k}\\right)^{2}} - \\frac{8 \\mu^{2} S^{2}{\\left(\\rho \\right)}}{k \\left(1 + \\frac{\\mu S^{2}{\\left(\\rho \\right)}}{k}\\right)^{3}}$"
      ],
      "text/plain": [
       "2*mu/(1 + mu*S(RHO)**2/k)**2 - 8*mu**2*S(RHO)**2/(k*(1 + mu*S(RHO)**2/k)**3)"
      ]
     },
     "execution_count": 19,
     "metadata": {},
     "output_type": "execute_result"
    }
   ],
   "source": [
    "L2"
   ]
  },
  {
   "cell_type": "code",
   "execution_count": 20,
   "id": "a467f32e",
   "metadata": {},
   "outputs": [
    {
     "data": {
      "text/latex": [
       "$\\displaystyle \\frac{2 \\mu}{\\left(1 + \\frac{\\mu S^{2}{\\left(\\rho \\right)}}{k}\\right)^{2}} - \\frac{8 \\mu^{2} S^{2}{\\left(\\rho \\right)}}{k \\left(1 + \\frac{\\mu S^{2}{\\left(\\rho \\right)}}{k}\\right)^{3}}$"
      ],
      "text/plain": [
       "2*mu/(1 + mu*S(RHO)**2/k)**2 - 8*mu**2*S(RHO)**2/(k*(1 + mu*S(RHO)**2/k)**3)"
      ]
     },
     "execution_count": 20,
     "metadata": {},
     "output_type": "execute_result"
    }
   ],
   "source": [
    "# usando la generalización\n",
    "derivada_funcional_nesima(L,S,iteraciones=1)"
   ]
  }
 ],
 "metadata": {
  "kernelspec": {
   "display_name": "Python 3",
   "language": "python",
   "name": "python3"
  },
  "language_info": {
   "codemirror_mode": {
    "name": "ipython",
    "version": 3
   },
   "file_extension": ".py",
   "mimetype": "text/x-python",
   "name": "python",
   "nbconvert_exporter": "python",
   "pygments_lexer": "ipython3",
   "version": "3.8.12"
  }
 },
 "nbformat": 4,
 "nbformat_minor": 5
}
